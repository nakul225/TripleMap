{
 "metadata": {
  "name": ""
 },
 "nbformat": 3,
 "nbformat_minor": 0,
 "worksheets": [
  {
   "cells": [
    {
     "cell_type": "code",
     "collapsed": false,
     "input": [
      "#This code will keep a track of locations of each bus\n",
      "from GoogleMapsApiInterface import *\n",
      "import json\n",
      "import urllib\n",
      "import sys\n",
      "from math import sin, cos, sqrt, atan2, radians\n",
      "from pprint import pprint\n",
      "import time\n",
      "\n",
      "STOPPED = 0\n",
      "APPROACHING = 1\n",
      "LEAVING = 2\n",
      "\n",
      "DOUBLEMAP_BUSES_API_URL = {\n",
      "                    \"BLOOMINGTON_TRANSIT\":\"http://bloomington.doublemap.com/map/v2/buses\",\n",
      "                    \"NORTHWESTERN\":\"http://northwestern.doublemap.com/map/v2/buses\"\n",
      "                    }\n",
      "DOUBLEMAP_ROUTES_API_URL = {\n",
      "                    \"BLOOMINGTON_TRANSIT\":\"http://bloomington.doublemap.com/map/v2/routes\",\n",
      "                    \"NORTHWESTERN\":\"http://northwestern.doublemap.com/map/v2/routes\"\n",
      "                    }\n",
      "MAP_ACUTAL_TO_COLLOQUIAL_BUS_NUMBERS = {}\n",
      "ALERT_DISTANCE = 0.3"
     ],
     "language": "python",
     "metadata": {},
     "outputs": [],
     "prompt_number": 22
    },
    {
     "cell_type": "code",
     "collapsed": false,
     "input": [
      "#Map for colloquial bus number to route number\n",
      "def create_colloquial_to_route():\n",
      "    if type(colloquial_bus_numbers) is not list:\n",
      "        print 'Invalid parameter for colloquial bus list!'\n",
      "        return None\n",
      "    else:\n",
      "        dict_coll_to_route = dict.fromkeys(colloquial_bus_numbers, 0)\n",
      "\n",
      "        dblmap_routes_uri = DOUBLEMAP_ROUTES_API_URL[\"BLOOMINGTON_TRANSIT\"]\n",
      "        routes = json.loads(urllib.urlopen(dblmap_routes_uri).read())\n",
      "        #print (routes[0]['short_name'])\n",
      "\n",
      "        for route in routes:\n",
      "            dict_coll_to_route[route['short_name']] = route['id']\n",
      "        return dict_coll_to_route"
     ],
     "language": "python",
     "metadata": {},
     "outputs": [],
     "prompt_number": 23
    },
    {
     "cell_type": "code",
     "collapsed": false,
     "input": [
      "# Mapping between route number to actual number\n",
      "def create_route_to_actual():\n",
      "    all_buses = get_all_buses_status()\n",
      "    dict_route_to_actual = {}\n",
      "    for bus in all_buses:\n",
      "            dict_route_to_actual.setdefault(bus['route'], []).append(bus['id'])\n",
      "    return dict_route_to_actual"
     ],
     "language": "python",
     "metadata": {},
     "outputs": [],
     "prompt_number": 24
    },
    {
     "cell_type": "code",
     "collapsed": false,
     "input": [
      "def colloquial_to_actual(colloquial_bus_numbers):\n",
      "    \"\"\"\n",
      "    The route numbers and actual bus numbers change daily from Transport service provider. \n",
      "    This function creates a map of colloquial numbers to route number and then gets the actual bus numbers on these routes\n",
      "    Returns a dict of colloquial_bus_numbers to actual_bus_numbers {'EL': [29724, 29727]}\n",
      "    \"\"\"\n",
      "    dict_colloquial_to_actual = {}\n",
      "    bus_number_list = []\n",
      "    route_list = []\n",
      "\n",
      "    map_colloquial_to_route = create_colloquial_to_route()\n",
      "    map_route_to_actual = create_route_to_actual()\n",
      "\n",
      "    for colloquial_bus in colloquial_bus_numbers:\n",
      "        dict_colloquial_to_actual[colloquial_bus] = map_route_to_actual[map_colloquial_to_route[colloquial_bus]]\n",
      "\n",
      "    return dict_colloquial_to_actual"
     ],
     "language": "python",
     "metadata": {},
     "outputs": [],
     "prompt_number": 25
    },
    {
     "cell_type": "code",
     "collapsed": false,
     "input": [
      "def actual_to_colloquial(actual_bus_numbers):\n",
      "    colloquial_bus_numbers = []\n",
      "\n",
      "\n",
      "# ************This should probably go************\n",
      "# Map to convert colloquial bus number to actual bus number\n",
      "def loadMapFromFile(fileName):\n",
      "    with open(fileName, \"r\") as jsFile:\n",
      "        map_colloquial_to_acutal_bus_number = json.loads(jsFile.read())\n",
      "        "
     ],
     "language": "python",
     "metadata": {},
     "outputs": [],
     "prompt_number": 26
    },
    {
     "cell_type": "code",
     "collapsed": false,
     "input": [
      "def get_all_buses_status(isLatLng = None):\n",
      "    \"\"\"\n",
      "    This function returns latitude and longitude of each bus\n",
      "    format : {\"bus name/number\":(latitude, longitude)}\n",
      "    example:    (\n",
      "                    \"555\":(39.16641998291, -86.526893615723)\n",
      "                )\n",
      "    \"\"\"\n",
      "    dict_bus_lat_lng = {}\n",
      "    #doublemap_buses_url = \"http://bloomington.doublemap.com/map/v2/buses\"\n",
      "    #'http://northwestern.doublemap.com/map/v2/buses'\n",
      "    doublemap_buses_url = DOUBLEMAP_BUSES_API_URL[\"NORTHWESTERN\"] \n",
      "    \n",
      "    response = json.loads(urllib.urlopen(doublemap_buses_url).read())\n",
      "    if len(response) == 0:\n",
      "        print \"Something went wrong while getting status of each bus...\"\n",
      "        sys.exit(0)\n",
      "\n",
      "    if not isLatLng:\n",
      "        return response\n",
      "\n",
      "    for bus in response:\n",
      "        bus_number = bus['id']\n",
      "        lat = bus['lat']\n",
      "        lng = bus['lon']\n",
      "        route = bus['route']\n",
      "        bus_id = bus['id']\n",
      "        lastUpdate = bus['lastUpdate']\n",
      "        dict_bus_lat_lng[bus_number] = (lat,lng)\n",
      "    return dict_bus_lat_lng"
     ],
     "language": "python",
     "metadata": {},
     "outputs": [],
     "prompt_number": 27
    },
    {
     "cell_type": "code",
     "collapsed": false,
     "input": [
      "def test_get_all_buses_status():\n",
      "    \"\"\"\n",
      "    Test function\n",
      "    \"\"\"\n",
      "    return len(get_all_buses_status())"
     ],
     "language": "python",
     "metadata": {},
     "outputs": [],
     "prompt_number": 28
    },
    {
     "cell_type": "code",
     "collapsed": false,
     "input": [
      "def get_coordinates_of_buses(bus_number_list):\n",
      "    \"\"\"\n",
      "    def pulls out coordinates infromation for the bus numbers given as input\n",
      "    \"\"\"\n",
      "    isLatLng = True\n",
      "    dict_all_buses_lat_lng = get_all_buses_status(isLatLng)\n",
      "\n",
      "    dict_bus_lat_lng = {}\n",
      "    for bus_number in bus_number_list:\n",
      "        if bus_number in dict_all_buses_lat_lng:\n",
      "            dict_bus_lat_lng[bus_number] = (dict_all_buses_lat_lng[bus_number][0], dict_all_buses_lat_lng[bus_number][1])\n",
      "    return dict_bus_lat_lng"
     ],
     "language": "python",
     "metadata": {},
     "outputs": [],
     "prompt_number": 29
    },
    {
     "cell_type": "code",
     "collapsed": false,
     "input": [
      "def get_bus_distance(bus_number_list, target_location_coordinates):\n",
      "    \"\"\"\n",
      "    This function returns a dictionary with status of each bus on each input route\n",
      "    input_route_list can have one or a list of bus numbers. This will be used to get the route numbers. \n",
      "    For example, user might want yo travel by route 6 OR route 9. Then we feed both actual bus numbers for route6 and 9 to this function.\n",
      "    Output: Each bus running on the input route along with its latitude and longitude.\n",
      "    \"\"\"\n",
      "    #Query doublemap API and get status for each route\n",
      "    dict_bus_lat_lng = get_coordinates_of_buses(bus_number_list)\n",
      "    # use this dict to store distances\n",
      "    dict_bus_distance = {}\n",
      "    for bus, latLng in dict_bus_lat_lng.iteritems():\n",
      "        dict_bus_distance[bus] = find_distance_between_coordinates(latLng, target_location_coordinates)\n",
      "    return dict_bus_distance"
     ],
     "language": "python",
     "metadata": {},
     "outputs": [],
     "prompt_number": 30
    },
    {
     "cell_type": "code",
     "collapsed": false,
     "input": [
      "def is_bus_approaching_waiting_or_leaving_point(bus_coordinates_before, bus_coordinates_later, target_location_coordinates):\n",
      "    \"\"\"\n",
      "    Find if the bus is approaching a given location or not.\n",
      "    bus_coordinates_before : coordinates of bus at time T\n",
      "    bus_coordinates_later : coordinates of bus at time T+t where t!=0\n",
      "    \"\"\"\n",
      "    #find difference between distance_before and distance_later\n",
      "    distance_before = find_distance_between_coordinates(bus_coordinates_before, target_location_coordinates)\n",
      "    distance_later = find_distance_between_coordinates(bus_coordinates_later, target_location_coordinates)\n",
      "    distance = distance_before - distance_later\n",
      "    if distance == 0:\n",
      "        return (distance, STOPPED)\n",
      "    elif distance > 0:\n",
      "        return (distance, APPROACHING)\n",
      "    else:\n",
      "        return (distance, LEAVING)"
     ],
     "language": "python",
     "metadata": {},
     "outputs": [],
     "prompt_number": 31
    },
    {
     "cell_type": "code",
     "collapsed": false,
     "input": [
      "def find_distance_between_coordinates(bus_coordinates, target_location_coordinates):\n",
      "    \"\"\"\n",
      "    This function returns exact distance (and not the map/road driving distance)\n",
      "    between bus_coordinates and target coordinates\n",
      "    code reference: http://stackoverflow.com/a/19412565/2762836\n",
      "    \"\"\"\n",
      "    R = 6373.0\n",
      "    lat1 = radians(bus_coordinates[0])\n",
      "    lon1 = radians(bus_coordinates[1])\n",
      "    lat2 = radians(target_location_coordinates[0])\n",
      "    lon2 = radians(target_location_coordinates[1])\n",
      "\n",
      "    dlon = lon2 - lon1\n",
      "    dlat = lat2 - lat1\n",
      "    a = (sin(dlat/2))**2 + cos(lat1) * cos(lat2) * (sin(dlon/2))**2\n",
      "    c = 2 * atan2(sqrt(a), sqrt(1-a))\n",
      "    distance = R * c\n",
      "    return distance"
     ],
     "language": "python",
     "metadata": {},
     "outputs": [],
     "prompt_number": 32
    },
    {
     "cell_type": "code",
     "collapsed": false,
     "input": [
      "def poll_on_distance(approaching_buses, target_location_coordinates):\n",
      "    \"\"\"\n",
      "    This function checks if the distance between bus and target location is less than ALERT_DISTANCE,\n",
      "    and alerts the user accordingly.\n",
      "    \"\"\"\n",
      "    dict_bus_distance = get_bus_distance(approaching_buses, target_location_coordinates)\n",
      "    \n",
      "    for bus, distance in dict_bus_distance.iteritems():\n",
      "        colloquial_bus_number = MAP_ACUTAL_TO_COLLOQUIAL_BUS_NUMBERS[bus]\n",
      "        if distance < ALERT_DISTANCE:\n",
      "            # ALERT user\n",
      "            print \"Alert for bus \", colloquial_bus_number\n",
      "            # remove the bus from list for which user has been alerted.\n",
      "            approaching_buses.remove(bus)\n",
      "        else:\n",
      "            print \"Bus\", colloquial_bus_number,\" is approaching and is at distance: \", distance\n",
      "    return approaching_buses"
     ],
     "language": "python",
     "metadata": {},
     "outputs": [],
     "prompt_number": 33
    },
    {
     "cell_type": "code",
     "collapsed": false,
     "input": [
      "def get_all_bus_position(bus_number_list, target_location_coordinates):\n",
      "    dict_bus_lat_lng_instance1 = get_coordinates_of_buses(bus_number_list)\n",
      "    time.sleep(2)\n",
      "    dict_bus_lat_lng_instance2 = get_coordinates_of_buses(bus_number_list)\n",
      "\n",
      "    # get all the approaching buses\n",
      "    approaching_buses = []\n",
      "    dict_bus_position = {}\n",
      "    for bus, latLng in dict_bus_lat_lng_instance1.iteritems():\n",
      "\n",
      "        dict_bus_position[bus] = is_bus_approaching_waiting_or_leaving_point(dict_bus_lat_lng_instance1[bus], \\\n",
      "            dict_bus_lat_lng_instance2[bus], target_location_coordinates)\n",
      "\n",
      "        status = is_bus_approaching_waiting_or_leaving_point(dict_bus_lat_lng_instance1[bus], \\\n",
      "            dict_bus_lat_lng_instance2[bus], target_location_coordinates)\n",
      "        if status[1] == APPROACHING:\n",
      "            approaching_buses.append(bus)\n",
      "    return dict_bus_position"
     ],
     "language": "python",
     "metadata": {},
     "outputs": [],
     "prompt_number": 34
    },
    {
     "cell_type": "code",
     "collapsed": false,
     "input": [
      "def get_colloquial_bus_numbers_from_actual_bus_numbers(DOUBLEMAP_CITY):\n",
      "    \"\"\"\n",
      "    used to update MAP_ACUTAL_TO_COLLOQUIAL_BUS_NUMBERS\n",
      "    \"\"\"\n",
      "    #Fetch all buses data\n",
      "    doublemap_buses_url = DOUBLEMAP_BUSES_API_URL[DOUBLEMAP_CITY] \n",
      "    response_buses = json.loads(urllib.urlopen(doublemap_buses_url).read())\n",
      "    #Fetch all routes data\n",
      "    doublemap_routes_url = DOUBLEMAP_ROUTES_API_URL[DOUBLEMAP_CITY]\n",
      "    response_routes = json.loads(urllib.urlopen(doublemap_routes_url).read())\n",
      "\n",
      "    dict_actual_bus_number_actual_route_number = {}\n",
      "    for bus in response_buses:\n",
      "        bus_number = bus['id']\n",
      "        route = bus['route']\n",
      "        dict_actual_bus_number_actual_route_number[bus_number] = route\n",
      "    \n",
      "    dict_actual_route_number_to_colloquial_route_number = {}\n",
      "    for route in response_routes:\n",
      "        actual_route_number = route['id']\n",
      "        colloquial_route_name = route['short_name']\n",
      "        dict_actual_route_number_to_colloquial_route_number[actual_route_number] = colloquial_route_name\n",
      "        \n",
      "    #For each route ID, find buses running on it and then update the map\n",
      "    for bus_number in dict_actual_bus_number_actual_route_number.keys():\n",
      "        route = dict_actual_bus_number_actual_route_number[bus_number]\n",
      "        if route in dict_actual_route_number_to_colloquial_route_number:\n",
      "            MAP_ACUTAL_TO_COLLOQUIAL_BUS_NUMBERS[bus_number] = dict_actual_route_number_to_colloquial_route_number[route]\n",
      "    return MAP_ACUTAL_TO_COLLOQUIAL_BUS_NUMBERS"
     ],
     "language": "python",
     "metadata": {},
     "outputs": [],
     "prompt_number": 54
    },
    {
     "cell_type": "code",
     "collapsed": false,
     "input": [
      "def get_actual_bus_numbers(colloquial_bus_numbers, DOUBLEMAP_CITY):\n",
      "    \"\"\"\n",
      "    This function takes in colloquial names for buses (routes) for example, route '6' or route '9' and returns lists\n",
      "    of buses running on those routes. \n",
      "    For example, buses [234,545,5657,2324] might be running on '6' route.\n",
      "    Since both route numbers and bus numbers change everyday, we use route names by calling 'ROUTES' API to find route numbers.\n",
      "    Then we use 'BUSES' API to fetch all bus numbers running on those routes and return them.\n",
      "    \"\"\"\n",
      "    #Task 1: Find actual route numbers on which the colloquial bus numbers are running\n",
      "    dict_actual_route_numbers = find_routes_for_colloquial_bus_numbers(colloquial_bus_numbers, DOUBLEMAP_CITY)\n",
      "    set_actual_route_numbers = set(dict_actual_route_numbers.values())\n",
      "    print \"set_actual_route_numbers: \",set_actual_route_numbers\n",
      "    #Task 2: Find actual bus numbers running on the actual route numbers found in above step\n",
      "    list_actual_bus_numbers = find_actual_bus_numbers_for_actual_routes(set_actual_route_numbers, DOUBLEMAP_CITY)\n",
      "    \n",
      "    return list_actual_bus_numbers\n",
      "    "
     ],
     "language": "python",
     "metadata": {},
     "outputs": [],
     "prompt_number": 55
    },
    {
     "cell_type": "code",
     "collapsed": false,
     "input": [
      "def find_actual_bus_numbers_for_actual_routes(set_actual_route_numbers, DOUBLEMAP_CITY):\n",
      "    \"\"\"\n",
      "    This function returns the actual bus numbers by using actual route numbers\n",
      "    \"\"\"\n",
      "    list_actual_bus_numbers = []\n",
      "    doublemap_buses_url = DOUBLEMAP_BUSES_API_URL[DOUBLEMAP_CITY] \n",
      "    \n",
      "    response = json.loads(urllib.urlopen(doublemap_buses_url).read())\n",
      "    if len(response) == 0:\n",
      "        print \"Something went wrong while getting status of each bus...\"\n",
      "        sys.exit(0)\n",
      "    \n",
      "    for bus in response:\n",
      "        bus_number = bus['id']\n",
      "        lat = bus['lat']\n",
      "        lng = bus['lon']\n",
      "        route = bus['route']\n",
      "        bus_id = bus['id']\n",
      "        lastUpdate = bus['lastUpdate']\n",
      "        print route\n",
      "        #If route number matches the one in dict_colloquial_bus_numbers, add that bus number to the list\n",
      "        if route in set_actual_route_numbers:\n",
      "            #Add this bus to the list\n",
      "            list_actual_bus_numbers.append(bus_number)\n",
      "    return list_actual_bus_numbers"
     ],
     "language": "python",
     "metadata": {},
     "outputs": [],
     "prompt_number": 56
    },
    {
     "cell_type": "code",
     "collapsed": false,
     "input": [
      "def find_routes_for_colloquial_bus_numbers(colloquial_bus_numbers, DOUBLEMAP_CITY):\n",
      "    \"\"\"\n",
      "    Returns a dictionary with key as colloquial bus number and value as actual route numbers associated with it.\n",
      "    Example:\n",
      "        INPUT: \n",
      "            colloquial_bus_numbers = ['6','9','3','5']\n",
      "            DOUBLEMAP_CITY = \"BLOOMINGTON_TRANSIT\"\n",
      "        OUPUT:\n",
      "            dict_colloquial_bus_numbers = {u'9': 1001555, u'3': 1001536, u'5': 1001543, u'6': 1001546}\n",
      "    \"\"\"\n",
      "    doublemap_routes_url = DOUBLEMAP_ROUTES_API_URL[DOUBLEMAP_CITY]\n",
      "    response = json.loads(urllib.urlopen(doublemap_routes_url).read())\n",
      "    \n",
      "    set_colloquial_bus_numbers = set(colloquial_bus_numbers)\n",
      "    dict_colloquial_bus_numbers = {} #This would store mapping of colloquial bus number to their actual route numbers\n",
      "    for route in response:\n",
      "        colloquial_route_name = route['short_name']\n",
      "        #If the user is looking for buses on this particular route, fetch the actual route number \n",
      "        if colloquial_route_name in set_colloquial_bus_numbers:\n",
      "            dict_colloquial_bus_numbers[colloquial_route_name] = route['id']\n",
      "                               \n",
      "    return dict_colloquial_bus_numbers"
     ],
     "language": "python",
     "metadata": {},
     "outputs": [],
     "prompt_number": 57
    },
    {
     "cell_type": "code",
     "collapsed": false,
     "input": [
      "if __name__ == \"__main__\":\n",
      "    #test if the API is working\n",
      "    if test_get_all_buses_status():\n",
      "        print \"Code accessing Doublemap API is working correctly\"\n",
      "    else:\n",
      "        print \"Something seems to be wrong with accessing code of Doublemap API\"\n",
      "    DOUBLEMAP_CITY = \"NORTHWESTERN\"\n",
      "    #colloquial_bus_numbers = ['6','9','3','5']\n",
      "    #target_location_coordinates = (39.171539306641,-86.512619018555)\n",
      "\n",
      "    colloquial_bus_numbers = ['EL','CL']\n",
      "    #colloquial_bus_numbers = ['29727', '29732', '29729']\n",
      "    #EVANSTON n/w university\n",
      "    target_location_coordinates = (42.0549051148951, -87.6870495230669)\n",
      "    \n",
      "    \n",
      "    get_colloquial_bus_numbers_from_actual_bus_numbers(DOUBLEMAP_CITY)\n",
      "    bus_number_list = get_actual_bus_numbers(colloquial_bus_numbers,DOUBLEMAP_CITY)\n",
      "    '''\n",
      "    dict_colloquial_to_actual.values() is a list of lists (ex: [[29724, 29727], [29729]])\n",
      "    Following operation flattens this list.\n",
      "    '''\n",
      "    print bus_number_list\n",
      "    while True:\n",
      "        time.sleep(2)\n",
      "        bus_number_list = poll_on_distance(bus_number_list, target_location_coordinates)\n",
      "        print \"Distance: \\n\"\n",
      "        if len(bus_number_list) == 0:\n",
      "            print \"No Bus Running\"\n",
      "            sys.exit(0)\n",
      "\n",
      "    sys.exit(0)"
     ],
     "language": "python",
     "metadata": {},
     "outputs": [
      {
       "output_type": "stream",
       "stream": "stdout",
       "text": [
        "Code accessing Doublemap API is working correctly\n",
        "set_actual_route_numbers: "
       ]
      },
      {
       "output_type": "stream",
       "stream": "stdout",
       "text": [
        " set([32, 18])\n",
        "31"
       ]
      },
      {
       "output_type": "stream",
       "stream": "stdout",
       "text": [
        "\n",
        "31\n",
        "31\n",
        "18\n",
        "31\n",
        "[29727]\n",
        "Bus"
       ]
      },
      {
       "output_type": "stream",
       "stream": "stdout",
       "text": [
        " EL  is approaching and is at distance:  1.06925048887\n",
        "Distance: \n",
        "\n",
        "Bus"
       ]
      },
      {
       "output_type": "stream",
       "stream": "stdout",
       "text": [
        " EL  is approaching and is at distance:  1.06925048887\n",
        "Distance: \n",
        "\n",
        "Bus"
       ]
      },
      {
       "output_type": "stream",
       "stream": "stdout",
       "text": [
        " EL  is approaching and is at distance:  1.06925048887\n",
        "Distance: \n",
        "\n",
        "Bus"
       ]
      },
      {
       "output_type": "stream",
       "stream": "stdout",
       "text": [
        " EL  is approaching and is at distance:  1.06925048887\n",
        "Distance: \n",
        "\n",
        "Bus"
       ]
      },
      {
       "output_type": "stream",
       "stream": "stdout",
       "text": [
        " EL  is approaching and is at distance:  1.06925048887\n",
        "Distance: \n",
        "\n",
        "Bus"
       ]
      },
      {
       "output_type": "stream",
       "stream": "stdout",
       "text": [
        " EL  is approaching and is at distance:  1.06925048887\n",
        "Distance: \n",
        "\n",
        "Bus"
       ]
      },
      {
       "output_type": "stream",
       "stream": "stdout",
       "text": [
        " EL  is approaching and is at distance:  1.06925048887\n",
        "Distance: \n",
        "\n",
        "Bus"
       ]
      },
      {
       "output_type": "stream",
       "stream": "stdout",
       "text": [
        " EL  is approaching and is at distance:  1.06925048887\n",
        "Distance: \n",
        "\n",
        "Bus"
       ]
      },
      {
       "output_type": "stream",
       "stream": "stdout",
       "text": [
        " EL  is approaching and is at distance:  1.06925048887\n",
        "Distance: \n",
        "\n",
        "Bus"
       ]
      },
      {
       "output_type": "stream",
       "stream": "stdout",
       "text": [
        " EL  is approaching and is at distance:  1.06925048887\n",
        "Distance: \n",
        "\n",
        "Bus"
       ]
      },
      {
       "output_type": "stream",
       "stream": "stdout",
       "text": [
        " EL  is approaching and is at distance:  1.06925048887\n",
        "Distance: \n",
        "\n",
        "Bus"
       ]
      },
      {
       "output_type": "stream",
       "stream": "stdout",
       "text": [
        " EL  is approaching and is at distance:  1.06925048887\n",
        "Distance: \n",
        "\n",
        "Bus"
       ]
      },
      {
       "output_type": "stream",
       "stream": "stdout",
       "text": [
        " EL  is approaching and is at distance:  1.06925048887\n",
        "Distance: \n",
        "\n",
        "Bus"
       ]
      },
      {
       "output_type": "stream",
       "stream": "stdout",
       "text": [
        " EL  is approaching and is at distance:  1.06925048887\n",
        "Distance: \n",
        "\n",
        "Bus"
       ]
      },
      {
       "output_type": "stream",
       "stream": "stdout",
       "text": [
        " EL  is approaching and is at distance:  1.06925048887\n",
        "Distance: \n",
        "\n",
        "Bus"
       ]
      },
      {
       "output_type": "stream",
       "stream": "stdout",
       "text": [
        " EL  is approaching and is at distance:  1.06925048887\n",
        "Distance: \n",
        "\n",
        "Bus"
       ]
      },
      {
       "output_type": "stream",
       "stream": "stdout",
       "text": [
        " EL  is approaching and is at distance:  1.06925048887\n",
        "Distance: \n",
        "\n",
        "Bus"
       ]
      },
      {
       "output_type": "stream",
       "stream": "stdout",
       "text": [
        " EL  is approaching and is at distance:  1.06925048887\n",
        "Distance: \n",
        "\n",
        "Bus"
       ]
      },
      {
       "output_type": "stream",
       "stream": "stdout",
       "text": [
        " EL  is approaching and is at distance:  1.06925048887\n",
        "Distance: \n",
        "\n",
        "Bus"
       ]
      },
      {
       "output_type": "stream",
       "stream": "stdout",
       "text": [
        " EL  is approaching and is at distance:  1.06925048887\n",
        "Distance: \n",
        "\n",
        "Bus"
       ]
      },
      {
       "output_type": "stream",
       "stream": "stdout",
       "text": [
        " EL  is approaching and is at distance:  1.06925048887\n",
        "Distance: \n",
        "\n",
        "Bus"
       ]
      },
      {
       "output_type": "stream",
       "stream": "stdout",
       "text": [
        " EL  is approaching and is at distance:  1.06925048887\n",
        "Distance: \n",
        "\n",
        "Bus"
       ]
      },
      {
       "output_type": "stream",
       "stream": "stdout",
       "text": [
        " EL  is approaching and is at distance:  1.06925048887\n",
        "Distance: \n",
        "\n",
        "Bus"
       ]
      },
      {
       "ename": "KeyboardInterrupt",
       "evalue": "",
       "output_type": "pyerr",
       "traceback": [
        "\u001b[1;31m---------------------------------------------------------------------------\u001b[0m\n\u001b[1;31mKeyboardInterrupt\u001b[0m                         Traceback (most recent call last)",
        "\u001b[1;32m<ipython-input-58-fc90495c13d1>\u001b[0m in \u001b[0;36m<module>\u001b[1;34m()\u001b[0m\n\u001b[0;32m     23\u001b[0m     \u001b[1;32mprint\u001b[0m \u001b[0mbus_number_list\u001b[0m\u001b[1;33m\u001b[0m\u001b[0m\n\u001b[0;32m     24\u001b[0m     \u001b[1;32mwhile\u001b[0m \u001b[0mTrue\u001b[0m\u001b[1;33m:\u001b[0m\u001b[1;33m\u001b[0m\u001b[0m\n\u001b[1;32m---> 25\u001b[1;33m         \u001b[0mtime\u001b[0m\u001b[1;33m.\u001b[0m\u001b[0msleep\u001b[0m\u001b[1;33m(\u001b[0m\u001b[1;36m2\u001b[0m\u001b[1;33m)\u001b[0m\u001b[1;33m\u001b[0m\u001b[0m\n\u001b[0m\u001b[0;32m     26\u001b[0m         \u001b[0mbus_number_list\u001b[0m \u001b[1;33m=\u001b[0m \u001b[0mpoll_on_distance\u001b[0m\u001b[1;33m(\u001b[0m\u001b[0mbus_number_list\u001b[0m\u001b[1;33m,\u001b[0m \u001b[0mtarget_location_coordinates\u001b[0m\u001b[1;33m)\u001b[0m\u001b[1;33m\u001b[0m\u001b[0m\n\u001b[0;32m     27\u001b[0m         \u001b[1;32mprint\u001b[0m \u001b[1;34m\"Distance: \\n\"\u001b[0m\u001b[1;33m\u001b[0m\u001b[0m\n",
        "\u001b[1;31mKeyboardInterrupt\u001b[0m: "
       ]
      },
      {
       "output_type": "stream",
       "stream": "stdout",
       "text": [
        " EL  is approaching and is at distance:  1.06925048887\n",
        "Distance: \n",
        "\n"
       ]
      }
     ],
     "prompt_number": 58
    },
    {
     "cell_type": "code",
     "collapsed": false,
     "input": [
      "%tb"
     ],
     "language": "python",
     "metadata": {},
     "outputs": []
    },
    {
     "cell_type": "code",
     "collapsed": false,
     "input": [],
     "language": "python",
     "metadata": {},
     "outputs": []
    },
    {
     "cell_type": "code",
     "collapsed": false,
     "input": [],
     "language": "python",
     "metadata": {},
     "outputs": []
    }
   ],
   "metadata": {}
  }
 ]
}